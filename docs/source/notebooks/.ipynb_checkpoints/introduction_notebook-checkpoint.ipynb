{
 "cells": [
  {
   "cell_type": "markdown",
   "id": "846698bd-c572-4f60-8e55-79033da5dbda",
   "metadata": {},
   "source": [
    "## pyMACS Introduction"
   ]
  },
  {
   "cell_type": "code",
   "execution_count": 1,
   "id": "462ec767-d862-4a36-a67d-d0a92f294af9",
   "metadata": {
    "editable": true,
    "slideshow": {
     "slide_type": ""
    },
    "tags": []
   },
   "outputs": [],
   "source": [
    "import pyMACS\n",
    "from pyMACS.virtualMACS import VirtualMACS\n",
    "import matplotlib.pyplot as plt\n",
    "import mcstasscript as ms\n"
   ]
  },
  {
   "cell_type": "markdown",
   "id": "91f54b24-8e19-4cc4-a634-078a48ea8c66",
   "metadata": {
    "editable": true,
    "slideshow": {
     "slide_type": ""
    },
    "tags": []
   },
   "source": [
    "Welcome to a basic introduction of the pyMACS package. Here we will go through some of the basic functionality, use cases, and limitations of the package itself. Before doing anything, please make sure that \n",
    "1) You have a valid McStas 3.* installation.\n",
    "2) You have installed mcstasscript and properly set up its configurator to point to your McStas installation.\n",
    "\n",
    "After importing pyMACS, we import the VirtualMACS class in the call \n",
    ">from pyMACS.virtualMACS import VirtualMACS\n",
    "\n",
    "The VirtualMACS class is essentially a virtual MACS experiment. It contains all of the information about the sample, the instrument, and the output data. This class is broken down into the following components:\n",
    "\n",
    "1. VirtualMACS.monochromator, contains all instrumental settings and python methods relevant to the monochromator\n",
    "2. VirtualMACS.kidney, contains all instrumental settings and python methods relevant to the 20-channel detector geometry (kidney)\n",
    "3. VirtualMACS.sample, contains the sample information such as the alignment, lattice parameters, and various assosicated methods.\n",
    "4. VirtualMACS.data, class that handles all input and output data of both real ng0 files and simulated data.\n",
    "\n",
    "Let's begin by creating a simple experiment. "
   ]
  },
  {
   "cell_type": "code",
   "execution_count": 2,
   "id": "ae70ea5f-3e5b-4af8-ab8e-b705ae0582ab",
   "metadata": {},
   "outputs": [
    {
     "name": "stdout",
     "output_type": "stream",
     "text": [
      "#########################\n",
      "Old simulations found in /mnt/c/Users/tjh/OneDrive - NIST/GitHub/pyMACS/docs/source/notebooks/test/Kidney_simulations/\n",
      " \n",
      "Successfully combined old simulations into /mnt/c/Users/tjh/OneDrive - NIST/GitHub/pyMACS/docs/source/notebooks/test/Kidney_simulations/test_total.csv\n",
      "\n",
      "Data matrix instantiated and ready to use.\n",
      "#########################\n"
     ]
    }
   ],
   "source": [
    "macs = VirtualMACS(exptName='test',cifName=\"TiO2.cif\")"
   ]
  },
  {
   "cell_type": "markdown",
   "id": "da437c21-540b-41b0-9836-987d6c5fff0e",
   "metadata": {},
   "source": [
    "Now, define sample parameters relevant to the simulation. Here, we will align the sample in the (H0L) plane. \n"
   ]
  },
  {
   "cell_type": "code",
   "execution_count": 3,
   "id": "f976472a-20a4-4120-9c2d-cb8fd3e272ef",
   "metadata": {},
   "outputs": [],
   "source": [
    "macs.sample.formula_weight=79.87\n",
    "macs.sample.sample_widx=5e-3\n",
    "macs.sample.sample_widz=5e-3\n",
    "macs.sample.sample_widy=5e-3\n",
    "\n",
    "#Alignment, orient_u is defined as perpendicular to the beam, orient_v is parallel\n",
    "macs.sample.orient_u=[1,0,0]\n",
    "macs.sample.orient_v=[0,0,1]"
   ]
  },
  {
   "cell_type": "markdown",
   "id": "ac90bbc0-ece6-4b6f-bdf0-f17e0f8a4799",
   "metadata": {},
   "source": [
    "McStas requires lattice vector inputs in the lab frame. This function automatically performs that projection given that the orient u and v vectors have been specified. \n"
   ]
  },
  {
   "cell_type": "code",
   "execution_count": 4,
   "id": "e2da0ea5-bf68-4d51-867a-7d26fb91ee44",
   "metadata": {},
   "outputs": [
    {
     "name": "stdout",
     "output_type": "stream",
     "text": [
      "Projection of TiO2 lattice parameters in (H0L) plane;\n",
      "Format is [[ax,ay,az],[bx,by,bz],[cx,cy,cz]]\n",
      "[[4.6001 0.     0.    ]\n",
      " [0.     4.6001 0.    ]\n",
      " [0.     0.     2.9288]]\n",
      "Projection of TiO2 lattice parameters in (HHL) plane;\n",
      "Format is [[ax,ay,az],[bx,by,bz],[cx,cy,cz]]\n",
      "[[ 3.25276 -3.25276  0.     ]\n",
      " [ 3.25276  3.25276  0.     ]\n",
      " [ 0.       0.       2.9288 ]]\n"
     ]
    }
   ],
   "source": [
    "macs.sample.project_sample_realspace()\n",
    "#Print the projection\n",
    "labproj_h0l = macs.sample.labframe_mat\n",
    "print(\"Projection of TiO2 lattice parameters in (H0L) plane;\\nFormat is [[ax,ay,az],[bx,by,bz],[cx,cy,cz]]\")\n",
    "print(labproj_h0l)\n",
    "#Now try reorienting the sample into the (HHL) frame:\n",
    "macs.sample.orient_u=[1,1,0]\n",
    "macs.sample.orient_v=[0,0,1]\n",
    "macs.sample.project_sample_realspace()\n",
    "#Print the projection\n",
    "labproj = macs.sample.labframe_mat\n",
    "print(\"Projection of TiO2 lattice parameters in (HHL) plane;\\nFormat is [[ax,ay,az],[bx,by,bz],[cx,cy,cz]]\")\n",
    "print(labproj)"
   ]
  },
  {
   "cell_type": "markdown",
   "id": "95fc12f3-c196-4271-b961-21b7c8397965",
   "metadata": {},
   "source": [
    "There are a few more options available in the sample class, but for now this is the minimum to start a simulation."
   ]
  },
  {
   "cell_type": "markdown",
   "id": "a2c997bf-0e91-42e3-a1df-d672c71ee99b",
   "metadata": {},
   "source": [
    "**A key part of the achitecture of pyMACS is the definition the scattering in the sample environment**\n",
    "\n",
    "There are two mandatory objects that must be defined and to run the simulation. They are :\n",
    "1) A scattering definition, which dictates the various possible scattering processes in the sample. Common choices are incoherent scattering and single crystal Bragg scattering. More advanced options are covered later in the documentation.\n",
    "2) The scattering geometry, including the sample holder. Using the UNION notation, one must specify the size and shape of the sample and its holder. Scattering processes for Aluminum have already been defined, support for more sample holder materials may be added in a future update."
   ]
  },
  {
   "cell_type": "code",
   "execution_count": null,
   "id": "4e6594c7-9ff7-4229-8f7a-455b4e48f06d",
   "metadata": {},
   "outputs": [],
   "source": []
  },
  {
   "cell_type": "code",
   "execution_count": 5,
   "id": "1c33b2ce-640d-4b4c-b657-0ac751b12148",
   "metadata": {},
   "outputs": [
    {
     "name": "stdout",
     "output_type": "stream",
     "text": [
      " \n",
      "Conversion of CIF to crystallographical LAU file successful. \n"
     ]
    }
   ],
   "source": [
    "# The scattering definition comes first\n",
    "scattering_def = ms.McStas_instr(\"scattering_definition\",checks=False)\n",
    "# At launch of pyMACS, only \"Incoherent_process\", \"Single_crystal_process\",\n",
    "#    and \"SQW4_process\" are supported. \n",
    "inc_scatter = scattering_def.add_component(\"inc_scatter\",\"Incoherent_process\")\n",
    "inc_scatter.sigma=macs.sample.sigma_inc\n",
    "inc_scatter.unit_cell_volume = macs.sample.cell_vol\n",
    "inc_scatter.packing_factor = 1\n",
    "inc_scatter.set_AT([0,0,0])\n",
    "\n",
    "#Single crystal process. \n",
    "crystal_scatter = scattering_def.add_component(\"crystal_scatter\",\"Single_crystal_process\")\n",
    "#Information about the mosaic is provided below\n",
    "crystal_scatter.delta_d_d=0.005\n",
    "crystal_scatter.mosaic = 30.0\n",
    "#Projections of lattice vectors onto lab frame is handled by the previous helper process.\n",
    "labproj = macs.sample.labframe_mat\n",
    "crystal_scatter.ax = labproj[0,0]\n",
    "crystal_scatter.ay = labproj[0,1]\n",
    "crystal_scatter.az = labproj[0,2]\n",
    "crystal_scatter.bx = labproj[1,0]\n",
    "crystal_scatter.by = labproj[1,1]\n",
    "crystal_scatter.bz = labproj[1,2]\n",
    "crystal_scatter.cx = labproj[2,0]\n",
    "crystal_scatter.cy = labproj[2,1]\n",
    "crystal_scatter.cz = labproj[2,2]\n",
    "# This requires a call to the function \"sample.cif2lau()\", which translates the input cif\n",
    "macs.sample.cif2lau()\n",
    "crystal_scatter.reflections='\\\"'+\"TiO2.lau\"+'\\\"'\n",
    "crystal_scatter.barns=1\n",
    "crystal_scatter.packing_factor=1\n",
    "crystal_scatter.powder=0\n",
    "crystal_scatter.PG=0\n",
    "crystal_scatter.interact_fraction=0.8\n",
    "crystal_scatter.set_AT([0,0,0])\n",
    "crystal_scatter.set_ROTATED([0,0,0])\n",
    "\n",
    "#Now, we combine these scattering processes to form a single TiO2 material\n",
    "scattering = scattering_def.add_component(\"TiO2\",\"Union_make_material\")\n",
    "scattering.process_string='\"crystal_scatter,inc_scatter\"'\n",
    "scattering.my_absorption=macs.sample.rho_abs\n",
    "scattering.set_AT([0,0,0])\n",
    "\n",
    "#IMPORTANT: This pseudo-instrument will be saved as the scattering definition of the sample. \n",
    "macs.sample.scattering_def = scattering_def"
   ]
  },
  {
   "cell_type": "markdown",
   "id": "a899ce02-3fb3-4d62-b29e-349fcba73eb3",
   "metadata": {},
   "source": [
    "Now, we make a geometry object representing the sample and its holder. "
   ]
  },
  {
   "cell_type": "code",
   "execution_count": 6,
   "id": "c71db26b-ec7b-46b3-be5f-588f91a51537",
   "metadata": {},
   "outputs": [],
   "source": [
    "#Make a second object for the geometry. This particular case replicates the validation experiment for this package.\n",
    "geo_def = ms.McStas_instr(\"geometry_definition\",checks=False)\n",
    "\n",
    "sample_cube=geo_def.add_component(\"sample_cube\",\"Union_box\")\n",
    "sample_cube.xwidth=1.0*macs.sample.sample_widx\n",
    "sample_cube.yheight=1.0*macs.sample.sample_widy\n",
    "sample_cube.zdepth=1.0*macs.sample.sample_widz\n",
    "sample_cube.priority=100\n",
    "sample_cube.material_string='\\\"TiO2\\\"'\n",
    "sample_cube.number_of_activations=\"number_of_activations_sample\" #Do not change. \n",
    "sample_cube.set_AT([0,0,0],RELATIVE='crystal_assembly')\n",
    "sample_cube.set_ROTATED([0,0,0],RELATIVE='crystal_assembly')\n",
    "\n",
    "\n",
    "sample_plate = geo_def.add_component(\"sample_plate\",\"Union_cylinder\")\n",
    "sample_plate.radius=0.006\n",
    "sample_plate.yheight=0.002\n",
    "sample_plate.priority=40\n",
    "sample_plate.material_string='\"Al\"'\n",
    "plate_distance = macs.sample.sample_widy+0.002\n",
    "sample_plate.set_AT([0,plate_distance,0],RELATIVE=\"target\")\n",
    "sample_plate.set_ROTATED([0,0,0],RELATIVE=\"target\")\n",
    "\n",
    "sample_plate_rod = geo_def.add_component(\"sample_plate_rod\",\"Union_cylinder\")\n",
    "sample_plate_rod.radius=0.00125\n",
    "sample_plate_rod.yheight=0.0633\n",
    "sample_plate_rod.priority=41\n",
    "sample_plate_rod.material_string='\"Al\"'\n",
    "sample_plate_rod.set_AT([0,plate_distance+0.001+0.031,0], RELATIVE=\"target\")\n",
    "sample_plate_rod.set_ROTATED([0,0,0],RELATIVE=\"target\")\n",
    "\n",
    "sample_base = geo_def.add_component(\"sample_base\",\"Union_cylinder\")\n",
    "sample_base.radius=0.0065\n",
    "sample_base.yheight=0.013\n",
    "sample_base.priority=42\n",
    "sample_base.material_string='\\\"Al\\\"'\n",
    "sample_base.set_AT([0,0.0628,0],RELATIVE=\"target\")\n",
    "sample_base.set_ROTATED([0,0,0],RELATIVE=\"target\")\n",
    "\n",
    "sample_base_gap = geo_def.add_component(\"sample_base_gap\",\"Union_cylinder\")\n",
    "sample_base_gap.radius=0.004\n",
    "sample_base_gap.yheight=0.009\n",
    "sample_base_gap.priority=43\n",
    "sample_base_gap.material_string='\"Vacuum\"'\n",
    "sample_base_gap.set_AT([0,0.0668,0], RELATIVE=\"target\")\n",
    "sample_base_gap.set_ROTATED([0,0,0],RELATIVE=\"target\")\n",
    "\n",
    "# IMPORTANT: Assign the geometry definition to the sample.\n",
    "macs.sample.geometry_def = geo_def\n"
   ]
  },
  {
   "cell_type": "markdown",
   "id": "c23f395d-4c33-47c5-a723-b937e27f9787",
   "metadata": {},
   "source": [
    "While this may seem intimidating at first, this is the most difficult part of setting up the instrument. Many different sample geometries can be built up using the mcstasscript language, the backend of the MACS simulation is constructed in this way.\n",
    "\n",
    "### Define parameters relevant to the McStas simulation:\n",
    "\n",
    "There are a number of attributes of the virtualMACS object that dictate the Monte-Carlo simulation parameters. \n",
    "\n",
    "By default, McStas will create a new directory in the project folder containing all of the necessary files for the experiment. If the \"useOld\" option is flagged as true, the object will attempt to load in all previous simulated results. It will also preserve the directory, instead of deleting it and overwriting it with new files."
   ]
  },
  {
   "cell_type": "code",
   "execution_count": 7,
   "id": "6dc44c09-06e8-4674-95e5-c5f5913591d2",
   "metadata": {},
   "outputs": [
    {
     "name": "stdout",
     "output_type": "stream",
     "text": [
      "WARNING: Old instrument directory found. Older files deleted, instrument will need to be recompiled.\n",
      "/mnt/c/Users/tjh/OneDrive - NIST/GitHub/pyMACS/docs/source/notebooks\n",
      "#################\n",
      "\n",
      "Starting compilation of monochromator.\n",
      "\n",
      "Compilation of monochromator geometry successful.\n",
      "\n",
      "#################\n",
      "\n",
      "#################\n",
      "\n",
      "Starting compilation of monochromator.\n",
      "\n",
      "Compilation of monochromator geometry successful.\n",
      "\n",
      "#################\n",
      "\n"
     ]
    }
   ],
   "source": [
    "# It is usually a good idea to leave this flag as True, however if you want to \n",
    "# start from scratch it can be a good idea to make it False. \n",
    "macs.useOld=True\n",
    "\n",
    "if macs.useOld==True:\n",
    "    macs.useOld=True\n",
    "    macs.prepare_expt_directory()\n",
    "else:\n",
    "    macs.data.data_matrix=False\n",
    "    # prepare_expt_directory populates the a folder in the base directory with all necessary files\n",
    "    # to perform the simulation.\n",
    "    macs.prepare_expt_directory()\n",
    "    #The below command write the McStas .instr file for the full MACS simulation based on the \n",
    "    # user-provided definitions above\n",
    "    macs.edit_instr_file()\n",
    "    macs.compileMonochromator()\n",
    "    macs.compileInstr()\n"
   ]
  },
  {
   "cell_type": "markdown",
   "id": "3309a458-f0c6-4c4c-b718-5d46d29153ac",
   "metadata": {},
   "source": [
    "All of the relevant McStas files have now been prepared, it may be instructive to browse them in \n",
    ">exptName/Instrument files/\n",
    "\n",
    "We assign a few more parameters relevant to the simulation. Here we are doing the simplest possible scan, which is defining a single instrumental configuration and running."
   ]
  },
  {
   "cell_type": "markdown",
   "id": "292fd2e2-2b7d-4758-9e54-d937d0196b0d",
   "metadata": {},
   "source": [
    "## Assign Instrument Parameters\n",
    "In this example, we use Ei=5meV = Ef"
   ]
  },
  {
   "cell_type": "code",
   "execution_count": 9,
   "id": "1cc98114-b832-4b0a-85ee-d7418fbdfe67",
   "metadata": {},
   "outputs": [
    {
     "name": "stdout",
     "output_type": "stream",
     "text": [
      "Scan complete. Saved to test_Ei_9.078_Ef_9.078_A3_67.3700_kidney_3.0000_dataMatrix.csv.\n"
     ]
    }
   ],
   "source": [
    "macs.monochromator.Ei=9.078\n",
    "macs.kidney.Ef=9.078\n",
    "macs.A3_angle = 67.37\n",
    "macs.kidney.kidney_angle=3.0\n",
    "\n",
    "macs.runMonoScan()\n",
    "csvname = macs.runKidneyScan()\n",
    "\n",
    "print(f\"Scan complete. Saved to {csvname}.\")"
   ]
  },
  {
   "cell_type": "markdown",
   "id": "3fb89b9d-f22d-4507-8e84-0b57fdb3c0af",
   "metadata": {},
   "source": [
    "Simulation results live in the VirtualMACS.data.data_matrix, which is a pandas dataframe containing all simulation results. Results are also written to .csv files and .ng0 files which can be found in the simulation directory."
   ]
  },
  {
   "cell_type": "code",
   "execution_count": 17,
   "id": "31181dd3-2194-4903-b51d-a664f34dba25",
   "metadata": {},
   "outputs": [
    {
     "data": {
      "text/plain": [
       "1"
      ]
     },
     "execution_count": 17,
     "metadata": {},
     "output_type": "execute_result"
    }
   ],
   "source": [
    "#The files are saved as csv's for now, add to the data_matrix manually.\n",
    "# The replace is due to a bad naming convention that I plan to fix in a future update.\n",
    "macs.data.load_data_matrix_from_csv(csvname.replace(macs.exptName,''))\n",
    "# Save this to a DAVE-readable ng0 file. \n",
    "macs.data.write_data_to_ng0(filename='test.ng0')"
   ]
  },
  {
   "cell_type": "markdown",
   "id": "0b2b6e30-6b66-46a2-97d2-f013c15db8a5",
   "metadata": {},
   "source": [
    "Now try running a scan of point in A3:"
   ]
  },
  {
   "cell_type": "code",
   "execution_count": null,
   "id": "4d1c9a1e-26ed-419a-8883-9a6c70ef07db",
   "metadata": {},
   "outputs": [],
   "source": [
    "#The parameters n_sample and n_mono are the number of Monte-Carlo counts for the \n",
    "# sample end and the monochromator end of the simulation respectively. It is usually\n",
    "# appropriate for n_mono=10*n_sample. \n",
    "testobj.n_sample=1e5\n",
    "testobj.n_mono = 1e6\n",
    "testobj.kidney.Ef=5.0\n",
    "#The parameter below is the A4 / twoTheta resolution. The Kidney angles are generated \n",
    "# identically to MACS from this.\n",
    "testobj.kidney_angle_resolution=0.8\n",
    "testobj.preserve_kidney_scan_files=False\n",
    "# pyMACS natively supports multithreading through joblib threading. \n",
    "testobj.script_scan(A3_list=np.arange(-70,-20,0.25),Ei_list=[5.0],\\\n",
    "                    num_threads=8,scan_title='_tio2_a3scan_cube')"
   ]
  }
 ],
 "metadata": {
  "kernelspec": {
   "display_name": "Python 3 (ipykernel)",
   "language": "python",
   "name": "python3"
  },
  "language_info": {
   "codemirror_mode": {
    "name": "ipython",
    "version": 3
   },
   "file_extension": ".py",
   "mimetype": "text/x-python",
   "name": "python",
   "nbconvert_exporter": "python",
   "pygments_lexer": "ipython3",
   "version": "3.10.14"
  }
 },
 "nbformat": 4,
 "nbformat_minor": 5
}
