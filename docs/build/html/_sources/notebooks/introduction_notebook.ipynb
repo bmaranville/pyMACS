{
 "cells": [
  {
   "cell_type": "markdown",
   "id": "846698bd-c572-4f60-8e55-79033da5dbda",
   "metadata": {},
   "source": [
    "## pyMACS Introduction"
   ]
  },
  {
   "cell_type": "code",
   "execution_count": 1,
   "id": "462ec767-d862-4a36-a67d-d0a92f294af9",
   "metadata": {
    "editable": true,
    "slideshow": {
     "slide_type": ""
    },
    "tags": []
   },
   "outputs": [],
   "source": [
    "import pyMACS\n",
    "from pyMACS.virtualMACS import VirtualMACS"
   ]
  },
  {
   "cell_type": "code",
   "execution_count": null,
   "id": "b201b016-c972-4aef-a918-5aa32f42b64f",
   "metadata": {
    "editable": true,
    "slideshow": {
     "slide_type": ""
    },
    "tags": []
   },
   "outputs": [],
   "source": []
  }
 ],
 "metadata": {
  "kernelspec": {
   "display_name": "Python 3 (ipykernel)",
   "language": "python",
   "name": "python3"
  },
  "language_info": {
   "codemirror_mode": {
    "name": "ipython",
    "version": 3
   },
   "file_extension": ".py",
   "mimetype": "text/x-python",
   "name": "python",
   "nbconvert_exporter": "python",
   "pygments_lexer": "ipython3",
   "version": "3.10.14"
  }
 },
 "nbformat": 4,
 "nbformat_minor": 5
}
