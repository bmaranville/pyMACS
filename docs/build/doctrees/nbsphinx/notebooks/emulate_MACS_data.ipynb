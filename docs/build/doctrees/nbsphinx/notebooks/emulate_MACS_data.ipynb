{
 "cells": [
  {
   "cell_type": "markdown",
   "id": "3b0549ea-8bf1-40cc-844a-06e1e3677130",
   "metadata": {
    "editable": true,
    "slideshow": {
     "slide_type": ""
    },
    "tags": []
   },
   "source": [
    "## Emulate a MACS ng0 file"
   ]
  },
  {
   "cell_type": "code",
   "execution_count": 1,
   "id": "ffb9e363-f024-4e91-84ff-4cc0011d7aec",
   "metadata": {
    "editable": true,
    "execution": {
     "iopub.execute_input": "2024-05-13T17:22:58.563202Z",
     "iopub.status.busy": "2024-05-13T17:22:58.562993Z",
     "iopub.status.idle": "2024-05-13T17:22:59.443476Z",
     "shell.execute_reply": "2024-05-13T17:22:59.442883Z"
    },
    "slideshow": {
     "slide_type": ""
    },
    "tags": []
   },
   "outputs": [],
   "source": [
    "import pyMACS\n",
    "from pyMACS.virtualMACS import VirtualMACS"
   ]
  }
 ],
 "metadata": {
  "kernelspec": {
   "display_name": "Python 3 (ipykernel)",
   "language": "python",
   "name": "python3"
  },
  "language_info": {
   "codemirror_mode": {
    "name": "ipython",
    "version": 3
   },
   "file_extension": ".py",
   "mimetype": "text/x-python",
   "name": "python",
   "nbconvert_exporter": "python",
   "pygments_lexer": "ipython3",
   "version": "3.10.14"
  }
 },
 "nbformat": 4,
 "nbformat_minor": 5
}
